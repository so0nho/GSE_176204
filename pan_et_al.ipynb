{
 "cells": [
  {
   "cell_type": "code",
   "execution_count": 96,
   "id": "b44e4b5d-a29e-43d7-adaa-046fc2430280",
   "metadata": {},
   "outputs": [],
   "source": [
    "import scanpy as sc"
   ]
  },
  {
   "cell_type": "code",
   "execution_count": 97,
   "id": "78264dbf-f8c3-42eb-a2fd-fdbc5499e2f0",
   "metadata": {},
   "outputs": [
    {
     "data": {
      "text/plain": [
       "AnnData object with n_obs × n_vars = 2735 × 31053"
      ]
     },
     "execution_count": 97,
     "metadata": {},
     "output_type": "execute_result"
    }
   ],
   "source": [
    "adata_wt = sc.read_csv(\"../data/GSM5359947_D20-3958_WT.csv.gz\").T\n",
    "adata_wt"
   ]
  },
  {
   "cell_type": "code",
   "execution_count": 98,
   "id": "80e02d22-3b26-4a40-87ff-1f9b783bfd95",
   "metadata": {},
   "outputs": [
    {
     "data": {
      "text/plain": [
       "AnnData object with n_obs × n_vars = 1785 × 31053"
      ]
     },
     "execution_count": 98,
     "metadata": {},
     "output_type": "execute_result"
    }
   ],
   "source": [
    "adata_ko = sc.read_csv(\"../data/GSM5359948_D20-3959_KO.csv.gz\").T\n",
    "adata_ko"
   ]
  },
  {
   "cell_type": "code",
   "execution_count": 99,
   "id": "6158f558-af8f-4bc6-8357-494efc003dcf",
   "metadata": {},
   "outputs": [],
   "source": [
    "adata_wt.obs[\"treatment\"] = \"WT\"\n",
    "adata_ko.obs[\"treatment\"] = \"KO\""
   ]
  },
  {
   "cell_type": "code",
   "execution_count": 100,
   "id": "7ad59160-02fc-4c9e-89bb-2b760b5c1ace",
   "metadata": {},
   "outputs": [],
   "source": [
    "# Labeling mitochondrial genes\n",
    "adata_wt.var[\"mt\"] = adata_wt.var_names.str.startswith(\"mt-\")\n",
    "adata_ko.var[\"mt\"] = adata_ko.var_names.str.startswith(\"mt-\")"
   ]
  },
  {
   "cell_type": "code",
   "execution_count": 101,
   "id": "3380c9cd-e25a-427c-8000-9c4642bfa89f",
   "metadata": {},
   "outputs": [],
   "source": [
    "# calculating metrics\n",
    "sc.pp.calculate_qc_metrics(adata_wt, qc_vars=[\"mt\"], inplace = True, percent_top=None, log1p=False)\n",
    "sc.pp.calculate_qc_metrics(adata_ko, qc_vars=[\"mt\"], inplace = True, percent_top=None, log1p=False)"
   ]
  },
  {
   "cell_type": "code",
   "execution_count": 113,
   "id": "4ede8c64-d578-4430-8fef-2fda5f1b6393",
   "metadata": {},
   "outputs": [],
   "source": [
    "# visualizing mitochondrial percent\n",
    "sc.set_figure_params(figsize=(4, 4))\n",
    "sc.pl.violin(adata_wt, keys = [\"pct_counts_mt\", \"n_genes_by_counts\", \"total_counts\"], multi_panel = True)\n",
    "sc.pl.violin(adata_ko, keys = [\"pct_counts_mt\", \"n_genes_by_counts\", \"total_counts\"], multi_panel = True)"
   ]
  },
  {
   "cell_type": "markdown",
   "id": "3dce2dda-1664-480b-a23c-c84a42fe522c",
   "metadata": {},
   "source": [
    "# Preprocessing"
   ]
  },
  {
   "cell_type": "code",
   "execution_count": 103,
   "id": "3146c80c-4c2c-4672-8a48-94f4ef60fdf1",
   "metadata": {},
   "outputs": [],
   "source": [
    "# filtering out cells with less than 500 genes expressed\n",
    "sc.pp.filter_cells(adata_wt, min_genes = 500)\n",
    "sc.pp.filter_cells(adata_ko, min_genes = 500)"
   ]
  },
  {
   "cell_type": "code",
   "execution_count": 104,
   "id": "51958933-ddbf-4948-a0bd-d7d1847fbcfe",
   "metadata": {},
   "outputs": [
    {
     "data": {
      "application/vnd.jupyter.widget-view+json": {
       "model_id": "a6bb0030f11a40cdb8c87177529fa603",
       "version_major": 2,
       "version_minor": 0
      },
      "text/plain": [
       "  0%|          | 0/25 [00:00<?, ?it/s]"
      ]
     },
     "metadata": {},
     "output_type": "display_data"
    }
   ],
   "source": [
    "import doubletdetection\n",
    "\n",
    "clf = doubletdetection.BoostClassifier(\n",
    "    n_iters=25, clustering_algorithm=\"louvain\", standard_scaling=True, pseudocount=0.1, n_jobs=-1\n",
    ")\n",
    "\n",
    "# doublet identification for wildtype data\n",
    "doublets = clf.fit(adata_wt.X).predict(p_thresh=1e-7, voter_thresh=0.5)\n",
    "doublet_score = clf.doublet_score()\n",
    "\n",
    "adata_wt.obs[\"doublet\"] = doublets"
   ]
  },
  {
   "cell_type": "code",
   "execution_count": 105,
   "id": "6b9ab768-d56d-4bf8-bb0a-91429a6383ee",
   "metadata": {},
   "outputs": [
    {
     "data": {
      "application/vnd.jupyter.widget-view+json": {
       "model_id": "5de324916a8145ef8a49d2852b13c74b",
       "version_major": 2,
       "version_minor": 0
      },
      "text/plain": [
       "  0%|          | 0/25 [00:00<?, ?it/s]"
      ]
     },
     "metadata": {},
     "output_type": "display_data"
    }
   ],
   "source": [
    "# doublet identification for knockout data\n",
    "doublets = clf.fit(adata_ko.X).predict(p_thresh=1e-7, voter_thresh=0.5)\n",
    "doublet_score = clf.doublet_score()\n",
    "\n",
    "adata_ko.obs[\"doublet\"] = doublets"
   ]
  },
  {
   "cell_type": "code",
   "execution_count": 111,
   "id": "d74181a1-2bf9-41f8-bac9-1da406e286cd",
   "metadata": {},
   "outputs": [],
   "source": [
    "# removing doublets from data\n",
    "adata_wt = adata_wt[adata_wt.obs.doublet == 0.0]\n",
    "adata_ko = adata_ko[adata_ko.obs.doublet == 0.0]"
   ]
  },
  {
   "cell_type": "code",
   "execution_count": null,
   "id": "1aa5d9fb-f35c-4f34-aed7-7f73dd729e9b",
   "metadata": {},
   "outputs": [],
   "source": [
    "# removing high mitochondrial percentage\n"
   ]
  },
  {
   "cell_type": "code",
   "execution_count": null,
   "id": "c42863f3-3da4-41e9-ba65-9313cb798bdc",
   "metadata": {},
   "outputs": [],
   "source": []
  },
  {
   "cell_type": "code",
   "execution_count": null,
   "id": "1213f777-8b52-430e-861a-37568e48e5b7",
   "metadata": {},
   "outputs": [],
   "source": []
  },
  {
   "cell_type": "code",
   "execution_count": null,
   "id": "6917d459-2046-45b3-87b7-66d65fc3c339",
   "metadata": {},
   "outputs": [],
   "source": []
  },
  {
   "cell_type": "code",
   "execution_count": 15,
   "id": "af7f78d6-5af7-475f-a184-a11a11dd3bb1",
   "metadata": {},
   "outputs": [
    {
     "name": "stderr",
     "output_type": "stream",
     "text": [
      "/home/kwon.so/.conda/envs/figureOneLab/lib/python3.9/site-packages/anndata/_core/anndata.py:1818: UserWarning: Observation names are not unique. To make them unique, call `.obs_names_make_unique`.\n",
      "  utils.warn_names_duplicates(\"obs\")\n"
     ]
    }
   ],
   "source": [
    "adata = sc.concat([adata_wt, adata_ko])"
   ]
  },
  {
   "cell_type": "code",
   "execution_count": 22,
   "id": "0645e48e-b867-4bc1-a161-38c27287c069",
   "metadata": {},
   "outputs": [
    {
     "data": {
      "text/plain": [
       "AnnData object with n_obs × n_vars = 4520 × 31053\n",
       "    obs: 'treatment'"
      ]
     },
     "execution_count": 22,
     "metadata": {},
     "output_type": "execute_result"
    }
   ],
   "source": [
    "adata"
   ]
  },
  {
   "cell_type": "code",
   "execution_count": 21,
   "id": "803c707c-3aef-4eaa-ac7e-16e20beaa1a0",
   "metadata": {},
   "outputs": [
    {
     "data": {
      "text/plain": [
       "4519"
      ]
     },
     "execution_count": 21,
     "metadata": {},
     "output_type": "execute_result"
    }
   ],
   "source": []
  }
 ],
 "metadata": {
  "kernelspec": {
   "display_name": "Python 3 (ipykernel)",
   "language": "python",
   "name": "python3"
  },
  "language_info": {
   "codemirror_mode": {
    "name": "ipython",
    "version": 3
   },
   "file_extension": ".py",
   "mimetype": "text/x-python",
   "name": "python",
   "nbconvert_exporter": "python",
   "pygments_lexer": "ipython3",
   "version": "3.9.19"
  }
 },
 "nbformat": 4,
 "nbformat_minor": 5
}
